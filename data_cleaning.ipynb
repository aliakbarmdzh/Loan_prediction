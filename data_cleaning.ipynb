{
 "cells": [
  {
   "cell_type": "markdown",
   "metadata": {},
   "source": [
    "Importing packages"
   ]
  },
  {
   "cell_type": "code",
   "execution_count": 1,
   "metadata": {},
   "outputs": [],
   "source": [
    "import pandas as pd\n",
    "import numpy as np\n",
    "import matplotlib.pyplot as plt\n",
    "%matplotlib inline"
   ]
  },
  {
   "cell_type": "markdown",
   "metadata": {},
   "source": [
    "Loading data"
   ]
  },
  {
   "cell_type": "code",
   "execution_count": 2,
   "metadata": {},
   "outputs": [],
   "source": [
    "data=pd.read_csv('C:/users/aliak/Desktop/prosperLoanData.csv')"
   ]
  },
  {
   "cell_type": "markdown",
   "metadata": {},
   "source": [
    "Viewing null columns"
   ]
  },
  {
   "cell_type": "code",
   "execution_count": 22,
   "metadata": {},
   "outputs": [
    {
     "data": {
      "text/plain": [
       "GroupKey                               100596\n",
       "LoanFirstDefaultedCycleNumber           96985\n",
       "ScorexChangeAtTimeOfListing             95009\n",
       "ProsperPaymentsLessThanOneMonthLate     91852\n",
       "ProsperPaymentsOneMonthPlusLate         91852\n",
       "OnTimeProsperPayments                   91852\n",
       "TotalProsperPaymentsBilled              91852\n",
       "TotalProsperLoans                       91852\n",
       "ProsperPrincipalBorrowed                91852\n",
       "ProsperPrincipalOutstanding             91852\n",
       "CreditGrade                             84984\n",
       "ClosedDate                              58848\n",
       "EstimatedEffectiveYield                 29084\n",
       "EstimatedReturn                         29084\n",
       "ProsperRating (numeric)                 29084\n",
       "ProsperRating (Alpha)                   29084\n",
       "ProsperScore                            29084\n",
       "EstimatedLoss                           29084\n",
       "DebtToIncomeRatio                        8554\n",
       "EmploymentStatusDuration                 7625\n",
       "AmountDelinquent                         7622\n",
       "BankcardUtilization                      7604\n",
       "PublicRecordsLast12Months                7604\n",
       "OpenCreditLines                          7604\n",
       "RevolvingCreditBalance                   7604\n",
       "CurrentCreditLines                       7604\n",
       "TradesOpenedLast6Months                  7544\n",
       "AvailableBankcardCredit                  7544\n",
       "TotalTrades                              7544\n",
       "TradesNeverDelinquent (percentage)       7544\n",
       "                                        ...  \n",
       "CurrentlyInGroup                            0\n",
       "LoanStatus                                  0\n",
       "Investors                                   0\n",
       "OpenRevolvingAccounts                       0\n",
       "MonthlyLoanPayment                          0\n",
       "InvestmentFromFriendsCount                  0\n",
       "Recommendations                             0\n",
       "PercentFunded                               0\n",
       "LP_NonPrincipalRecoverypayments             0\n",
       "LP_NetPrincipalLoss                         0\n",
       "LP_GrossPrincipalLoss                       0\n",
       "LP_CollectionFees                           0\n",
       "LP_ServiceFees                              0\n",
       "LP_InterestandFees                          0\n",
       "LP_CustomerPrincipalPayments                0\n",
       "LP_CustomerPayments                         0\n",
       "MemberKey                                   0\n",
       "OpenRevolvingMonthlyPayment                 0\n",
       "LoanOriginationQuarter                      0\n",
       "LoanOriginationDate                         0\n",
       "LoanOriginalAmount                          0\n",
       "LoanNumber                                  0\n",
       "LoanMonthsSinceOrigination                  0\n",
       "LoanCurrentDaysDelinquent                   0\n",
       "LoanKey                                     0\n",
       "StatedMonthlyIncome                         0\n",
       "IncomeVerifiable                            0\n",
       "IncomeRange                                 0\n",
       "InvestmentFromFriendsAmount                 0\n",
       "ListingKey                                  0\n",
       "Length: 81, dtype: int64"
      ]
     },
     "execution_count": 22,
     "metadata": {},
     "output_type": "execute_result"
    }
   ],
   "source": [
    "pd.options.display.min_rows=70\n",
    "data.isnull().sum().sort_values(ascending=False)"
   ]
  },
  {
   "cell_type": "markdown",
   "metadata": {},
   "source": [
    "dropping more than 90K missing values"
   ]
  },
  {
   "cell_type": "code",
   "execution_count": 24,
   "metadata": {},
   "outputs": [],
   "source": [
    "data.drop(data.columns[data.isnull().sum()>90000],axis=1,inplace=True)"
   ]
  },
  {
   "cell_type": "markdown",
   "metadata": {},
   "source": [
    "dropping key columns that do not contain useful information"
   ]
  },
  {
   "cell_type": "code",
   "execution_count": 25,
   "metadata": {},
   "outputs": [],
   "source": [
    "data.drop(['ListingKey','ListingNumber','LoanKey','LoanNumber','MemberKey'],axis=1,inplace=True)"
   ]
  },
  {
   "cell_type": "markdown",
   "metadata": {},
   "source": [
    "dropping irrelevant columns"
   ]
  },
  {
   "cell_type": "code",
   "execution_count": 28,
   "metadata": {},
   "outputs": [],
   "source": [
    "data.drop(['CreditGrade','LenderYield','EstimatedEffectiveYield','EstimatedLoss','EstimatedReturn',\n",
    "           'ProsperRating (numeric)','ProsperRating (Alpha)','ProsperScore',\n",
    "          'Occupation','CurrentlyInGroup','IncomeRange',\n",
    "          'LP_CustomerPayments','LP_CustomerPrincipalPayments',\n",
    "          'LP_InterestandFees','LP_ServiceFees','LP_CollectionFees',\n",
    "          'LP_NonPrincipalRecoverypayments','LP_NetPrincipalLoss',\n",
    "          'LP_GrossPrincipalLoss'],axis=1,inplace=True)"
   ]
  },
  {
   "cell_type": "code",
   "execution_count": 29,
   "metadata": {},
   "outputs": [],
   "source": [
    "data.drop(['ClosedDate','DateCreditPulled','FirstRecordedCreditLine',\n",
    "           'LoanOriginationDate','LoanOriginationQuarter'],axis=1,inplace=True)"
   ]
  },
  {
   "cell_type": "code",
   "execution_count": 40,
   "metadata": {},
   "outputs": [],
   "source": [
    "data.drop(['LoanCurrentDaysDelinquent','LoanMonthsSinceOrigination','BorrowerAPR'],axis=1,inplace=True)"
   ]
  },
  {
   "cell_type": "markdown",
   "metadata": {},
   "source": [
    "checking again missing values"
   ]
  },
  {
   "cell_type": "code",
   "execution_count": 41,
   "metadata": {},
   "outputs": [
    {
     "data": {
      "text/plain": [
       "DebtToIncomeRatio                     8404\n",
       "BorrowerState                         1736\n",
       "Investors                                0\n",
       "IsBorrowerHomeowner                      0\n",
       "OpenRevolvingMonthlyPayment              0\n",
       "OpenRevolvingAccounts                    0\n",
       "OpenCreditLines                          0\n",
       "CreditScoreRangeUpper                    0\n",
       "CreditScoreRangeLower                    0\n",
       "EmploymentStatus                         0\n",
       "EmploymentStatusDuration                 0\n",
       "TotalInquiries                           0\n",
       "ListingCategory (numeric)                0\n",
       "BorrowerRate                             0\n",
       "LoanStatus                               0\n",
       "Term                                     0\n",
       "InquiriesLast6Months                     0\n",
       "CurrentDelinquencies                     0\n",
       "Recommendations                          0\n",
       "AmountDelinquent                         0\n",
       "DelinquenciesLast7Years                  0\n",
       "PublicRecordsLast10Years                 0\n",
       "PublicRecordsLast12Months                0\n",
       "RevolvingCreditBalance                   0\n",
       "BankcardUtilization                      0\n",
       "AvailableBankcardCredit                  0\n",
       "TotalTrades                              0\n",
       "TradesNeverDelinquent (percentage)       0\n",
       "TradesOpenedLast6Months                  0\n",
       "StatedMonthlyIncome                      0\n",
       "LoanOriginalAmount                       0\n",
       "MonthlyLoanPayment                       0\n",
       "ListingCreationDate                      0\n",
       "dtype: int64"
      ]
     },
     "execution_count": 41,
     "metadata": {},
     "output_type": "execute_result"
    }
   ],
   "source": [
    "data.isnull().sum().sort_values(ascending=False)"
   ]
  },
  {
   "cell_type": "markdown",
   "metadata": {},
   "source": [
    "dropping some rows with null values"
   ]
  },
  {
   "cell_type": "code",
   "execution_count": 33,
   "metadata": {},
   "outputs": [],
   "source": [
    "data.dropna(subset=['CurrentDelinquencies','BankcardUtilization','EmploymentStatusDuration',\n",
    "             'TradesOpenedLast6Months'],inplace=True)"
   ]
  },
  {
   "cell_type": "markdown",
   "metadata": {},
   "source": [
    "dropping irrelevant columns"
   ]
  },
  {
   "cell_type": "code",
   "execution_count": 36,
   "metadata": {},
   "outputs": [],
   "source": [
    "data.drop(['CurrentCreditLines','TotalCreditLinespast7years','IncomeVerifiable','PercentFunded',\n",
    "           'InvestmentFromFriendsCount', 'InvestmentFromFriendsAmount'],axis=1,inplace=True)"
   ]
  },
  {
   "cell_type": "code",
   "execution_count": 42,
   "metadata": {},
   "outputs": [
    {
     "data": {
      "text/plain": [
       "(106290, 33)"
      ]
     },
     "execution_count": 42,
     "metadata": {},
     "output_type": "execute_result"
    }
   ],
   "source": [
    "data.shape"
   ]
  },
  {
   "cell_type": "code",
   "execution_count": 44,
   "metadata": {},
   "outputs": [
    {
     "data": {
      "text/plain": [
       "0.27603119955867117"
      ]
     },
     "execution_count": 44,
     "metadata": {},
     "output_type": "execute_result"
    }
   ],
   "source": [
    "data.DebtToIncomeRatio.mean()"
   ]
  },
  {
   "cell_type": "markdown",
   "metadata": {},
   "source": [
    "Filling null values"
   ]
  },
  {
   "cell_type": "code",
   "execution_count": 48,
   "metadata": {},
   "outputs": [],
   "source": [
    "data['DebtToIncomeRatio'].fillna(data.DebtToIncomeRatio.mean(),inplace=True)\n",
    "data['BorrowerState'].fillna(data.BorrowerState.mode().item(),inplace=True)"
   ]
  },
  {
   "cell_type": "code",
   "execution_count": 71,
   "metadata": {},
   "outputs": [],
   "source": [
    "data.reset_index(drop=True,inplace=True)"
   ]
  },
  {
   "cell_type": "code",
   "execution_count": 65,
   "metadata": {},
   "outputs": [
    {
     "data": {
      "text/plain": [
       "(106290, 33)"
      ]
     },
     "execution_count": 65,
     "metadata": {},
     "output_type": "execute_result"
    }
   ],
   "source": [
    "data.shape"
   ]
  },
  {
   "cell_type": "markdown",
   "metadata": {},
   "source": [
    "Preprocessing"
   ]
  },
  {
   "cell_type": "code",
   "execution_count": 90,
   "metadata": {},
   "outputs": [
    {
     "data": {
      "text/plain": [
       "ListingCreationDate                    object\n",
       "Term                                    int64\n",
       "LoanStatus                             object\n",
       "BorrowerRate                          float64\n",
       "ListingCategory (numeric)               int64\n",
       "BorrowerState                          object\n",
       "EmploymentStatus                       object\n",
       "EmploymentStatusDuration              float64\n",
       "IsBorrowerHomeowner                      bool\n",
       "CreditScoreRangeLower                 float64\n",
       "CreditScoreRangeUpper                 float64\n",
       "OpenCreditLines                       float64\n",
       "OpenRevolvingAccounts                   int64\n",
       "OpenRevolvingMonthlyPayment           float64\n",
       "InquiriesLast6Months                  float64\n",
       "TotalInquiries                        float64\n",
       "CurrentDelinquencies                  float64\n",
       "AmountDelinquent                      float64\n",
       "DelinquenciesLast7Years               float64\n",
       "PublicRecordsLast10Years              float64\n",
       "PublicRecordsLast12Months             float64\n",
       "RevolvingCreditBalance                float64\n",
       "BankcardUtilization                   float64\n",
       "AvailableBankcardCredit               float64\n",
       "TotalTrades                           float64\n",
       "TradesNeverDelinquent (percentage)    float64\n",
       "TradesOpenedLast6Months               float64\n",
       "DebtToIncomeRatio                     float64\n",
       "StatedMonthlyIncome                   float64\n",
       "LoanOriginalAmount                      int64\n",
       "MonthlyLoanPayment                    float64\n",
       "Recommendations                         int64\n",
       "Investors                               int64\n",
       "DelinquentBorrowers                     int64\n",
       "dtype: object"
      ]
     },
     "execution_count": 90,
     "metadata": {},
     "output_type": "execute_result"
    }
   ],
   "source": [
    "data.dtypes"
   ]
  },
  {
   "cell_type": "markdown",
   "metadata": {},
   "source": [
    "creating delinquentborrower column from loanstatus"
   ]
  },
  {
   "cell_type": "code",
   "execution_count": 72,
   "metadata": {},
   "outputs": [],
   "source": [
    "data['DelinquentBorrowers']=0"
   ]
  },
  {
   "cell_type": "code",
   "execution_count": 73,
   "metadata": {},
   "outputs": [],
   "source": [
    "l=len(data['LoanStatus'])\n",
    "for i in range(l):\n",
    "    if (data['LoanStatus'].loc[i] in [\"Defaulted\",\"Chargedoff\",\"Past Due (61-90 days)\",\n",
    "                                              \"Past Due (91-120 days)\",\"Past Due (>120 days)\"]):\n",
    "        data['DelinquentBorrowers'].loc[i]=1\n",
    "    else: \n",
    "        data['DelinquentBorrowers'].loc[i]=0"
   ]
  },
  {
   "cell_type": "markdown",
   "metadata": {},
   "source": [
    "Creatig a date column"
   ]
  },
  {
   "cell_type": "code",
   "execution_count": 80,
   "metadata": {},
   "outputs": [],
   "source": [
    "data['ListingCreationDate']=pd.to_datetime(data.ListingCreationDate)"
   ]
  },
  {
   "cell_type": "code",
   "execution_count": 86,
   "metadata": {},
   "outputs": [],
   "source": [
    "data['ListingCreationDate']=data['ListingCreationDate'].dt.strftime(\"%m/%d/%y\")"
   ]
  },
  {
   "cell_type": "code",
   "execution_count": 92,
   "metadata": {},
   "outputs": [],
   "source": [
    "data.to_csv('C:/users/aliak/Documents/projects/ProsperLoan/prosper_cleaned.csv')"
   ]
  },
  {
   "cell_type": "code",
   "execution_count": null,
   "metadata": {},
   "outputs": [],
   "source": []
  }
 ],
 "metadata": {
  "kernelspec": {
   "display_name": "Python 3",
   "language": "python",
   "name": "python3"
  },
  "language_info": {
   "codemirror_mode": {
    "name": "ipython",
    "version": 3
   },
   "file_extension": ".py",
   "mimetype": "text/x-python",
   "name": "python",
   "nbconvert_exporter": "python",
   "pygments_lexer": "ipython3",
   "version": "3.7.6"
  }
 },
 "nbformat": 4,
 "nbformat_minor": 4
}
