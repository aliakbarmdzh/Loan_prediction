{
  "nbformat": 4,
  "nbformat_minor": 0,
  "metadata": {
    "accelerator": "GPU",
    "colab": {
      "name": "ML.ipynb",
      "provenance": [],
      "toc_visible": true,
      "mount_file_id": "1XQecGIj5Gt0Huu-DsYqt2C0fqORjgph2",
      "authorship_tag": "ABX9TyMIrKfbDMZ1iuBRTPBpcvYF",
      "include_colab_link": true
    },
    "kernelspec": {
      "display_name": "Python 3",
      "name": "python3"
    },
    "language_info": {
      "name": "python"
    }
  },
  "cells": [
    {
      "cell_type": "markdown",
      "metadata": {
        "id": "view-in-github",
        "colab_type": "text"
      },
      "source": [
        "<a href=\"https://colab.research.google.com/github/aliakbarmdzh/Loan_prediction/blob/main/ML.ipynb\" target=\"_parent\"><img src=\"https://colab.research.google.com/assets/colab-badge.svg\" alt=\"Open In Colab\"/></a>"
      ]
    },
    {
      "cell_type": "markdown",
      "metadata": {
        "id": "34ogVOXhzvvJ"
      },
      "source": [
        "importing libraries"
      ]
    },
    {
      "cell_type": "code",
      "metadata": {
        "id": "Nf0rLFu3jwET"
      },
      "source": [
        "#General\n",
        "import pandas as pd\n",
        "import numpy as np\n",
        "import matplotlib.pylab as plt\n",
        "import seaborn as sns\n",
        "import sklearn\n",
        "from sklearn.ensemble import RandomForestClassifier"
      ],
      "execution_count": null,
      "outputs": []
    },
    {
      "cell_type": "code",
      "metadata": {
        "id": "XjpDns6Q07f7"
      },
      "source": [
        "#For ML\n",
        "from sklearn.model_selection import train_test_split\n",
        "from sklearn.preprocessing import OneHotEncoder\n",
        "from sklearn.preprocessing import LabelEncoder\n",
        "from sklearn.impute import SimpleImputer\n",
        "from sklearn.compose import ColumnTransformer\n",
        "from sklearn.pipeline import Pipeline\n",
        "from sklearn.metrics import accuracy_score\n",
        "from sklearn.model_selection import cross_val_score\n",
        "from sklearn.metrics import recall_score\n",
        "from sklearn.metrics import precision_score\n",
        "from sklearn.tree import DecisionTreeClassifier\n",
        "from sklearn.ensemble import RandomForestClassifier\n",
        "from xgboost import XGBClassifier\n",
        "from sklearn.linear_model import LogisticRegression\n",
        "from sklearn.linear_model import Lasso\n",
        "from sklearn.model_selection import cross_validate\n",
        "from sklearn.model_selection import train_test_split"
      ],
      "execution_count": null,
      "outputs": []
    },
    {
      "cell_type": "markdown",
      "metadata": {
        "id": "3el6jhBk0HHv"
      },
      "source": [
        "Loading data"
      ]
    },
    {
      "cell_type": "code",
      "metadata": {
        "id": "TiHD7sqAjzxw"
      },
      "source": [
        "data=pd.read_csv(\"/content/drive/MyDrive/Colab Notebooks/ProsperLoanData/prosper_cleaned.csv\")"
      ],
      "execution_count": null,
      "outputs": []
    },
    {
      "cell_type": "markdown",
      "metadata": {
        "id": "_qLmIc0I0LH8"
      },
      "source": [
        "Looking at columns"
      ]
    },
    {
      "cell_type": "code",
      "metadata": {
        "id": "NQP9TpUUkgss"
      },
      "source": [
        "data.columns"
      ],
      "execution_count": null,
      "outputs": []
    },
    {
      "cell_type": "markdown",
      "metadata": {
        "id": "frMq6CJ60QJj"
      },
      "source": [
        "Defining x and y, dropping some of unrelevant features from x"
      ]
    },
    {
      "cell_type": "code",
      "metadata": {
        "id": "jEYxJE0jj8aH"
      },
      "source": [
        "x=data.drop(['Unnamed: 0','LoanStatus','ListingCategory (numeric)','BorrowerState','DelinquentBorrowers',\n",
        "             'ListingCreationDate'],axis=1)\n",
        "y=data['DelinquentBorrowers']"
      ],
      "execution_count": null,
      "outputs": []
    },
    {
      "cell_type": "code",
      "metadata": {
        "id": "9-QRu8L2kh54"
      },
      "source": [
        "x.head()"
      ],
      "execution_count": null,
      "outputs": []
    },
    {
      "cell_type": "markdown",
      "metadata": {
        "id": "DslFJIRj0W9k"
      },
      "source": [
        "finding high correlated features"
      ]
    },
    {
      "cell_type": "code",
      "metadata": {
        "id": "vTBeVMwckkBq"
      },
      "source": [
        "corr=x.corr()\n",
        "f, ax = plt.subplots(figsize=(11, 9))\n",
        "mask = np.triu(np.ones_like(corr, dtype=bool))\n",
        "cmap = sns.diverging_palette(230, 20, as_cmap=True)\n",
        "sns.heatmap(corr, cmap=cmap, mask=mask,vmax=.3, center=0,\n",
        "            square=True, linewidths=.5, cbar_kws={\"shrink\": .5})"
      ],
      "execution_count": null,
      "outputs": []
    },
    {
      "cell_type": "markdown",
      "metadata": {
        "id": "UxCyqTyx0cyb"
      },
      "source": [
        "dropping high correlated features"
      ]
    },
    {
      "cell_type": "code",
      "metadata": {
        "id": "T1cL66t8kmrw"
      },
      "source": [
        "x=x.drop(['CreditScoreRangeUpper', 'TotalInquiries', 'OpenRevolvingAccounts','MonthlyLoanPayment',\n",
        "          'OpenRevolvingMonthlyPayment'],axis=1)"
      ],
      "execution_count": null,
      "outputs": []
    },
    {
      "cell_type": "markdown",
      "metadata": {
        "id": "cawxntM40hB0"
      },
      "source": [
        "Changing EmploymentStatus feature to dummy variables"
      ]
    },
    {
      "cell_type": "code",
      "metadata": {
        "id": "e2Z87mXisgp2"
      },
      "source": [
        "set(x.EmploymentStatus)"
      ],
      "execution_count": null,
      "outputs": []
    },
    {
      "cell_type": "code",
      "metadata": {
        "id": "jQXJwwHhneB9"
      },
      "source": [
        "x['Employment_Status_Employed']=0\n",
        "for i in range(len(x['Employment_Status_Employed'])):\n",
        "  if (x['EmploymentStatus'][i] in ['Self-employed','Full-time','Employed']):\n",
        "    x['Employment_Status_Employed'][i]=1\n",
        "x['Employment_Status_Not_Employed']=0\n",
        "for i in range(len(x['Employment_Status_Not_Employed'])):\n",
        "  if (x['EmploymentStatus'][i]=='Not employed'):\n",
        "    x['Employment_Status_Not_Employed'][i]=1\n",
        "x['Employment_Status_Part_time']=0\n",
        "for i in range(len(x['Employment_Status_Part_time'])):\n",
        "  if (x['EmploymentStatus'][i]=='Part-time'):\n",
        "    x['Employment_Status_Part_time'][i]=1\n",
        "x.drop('EmploymentStatus',axis=1,inplace=True)"
      ],
      "execution_count": null,
      "outputs": []
    },
    {
      "cell_type": "markdown",
      "metadata": {
        "id": "afPuJr9vt0g0"
      },
      "source": [
        "Checking datatypes"
      ]
    },
    {
      "cell_type": "code",
      "metadata": {
        "id": "TNeEiMv3kqFI"
      },
      "source": [
        "x.dtypes"
      ],
      "execution_count": null,
      "outputs": []
    },
    {
      "cell_type": "markdown",
      "metadata": {
        "id": "EM6E7nAzkvkd"
      },
      "source": [
        "Definig scoring"
      ]
    },
    {
      "cell_type": "code",
      "metadata": {
        "id": "SweXUEEOkw21"
      },
      "source": [
        "scoring=['precision','accuracy','recall']\n",
        "def print_scores(scores):\n",
        "    print(\"Average accuracy:\")\n",
        "    print(scores['test_accuracy'].mean())\n",
        "    print(\"Average precision:\")\n",
        "    print(scores['test_precision'].mean())\n",
        "    print(\"Average recall:\")\n",
        "    print(scores['test_recall'].mean())\n",
        "    return"
      ],
      "execution_count": null,
      "outputs": []
    },
    {
      "cell_type": "markdown",
      "metadata": {
        "id": "foJlIlyC1OFH"
      },
      "source": [
        "Modeling"
      ]
    },
    {
      "cell_type": "code",
      "metadata": {
        "id": "-oHoyx1U1KxR"
      },
      "source": [
        "#Decision Tree\n",
        "model=DecisionTreeClassifier(random_state=0)\n",
        "\n",
        "scores_dt=cross_validate(model,x,y,cv=5,scoring=scoring)\n",
        "print_scores(scores_dt)"
      ],
      "execution_count": null,
      "outputs": []
    },
    {
      "cell_type": "code",
      "metadata": {
        "id": "1gEZ9Pk1lIwl"
      },
      "source": [
        "#Random Forest\n",
        "model=RandomForestClassifier(n_estimators=100,random_state=0)\n",
        "\n",
        "scores_rf=cross_validate(model,x,y,cv=5,scoring=scoring)\n",
        "print_scores(scores_rf)"
      ],
      "execution_count": null,
      "outputs": []
    },
    {
      "cell_type": "code",
      "metadata": {
        "id": "HtJsOeTK2ePL"
      },
      "source": [
        "#XGBClassifier\n",
        "model = XGBClassifier(n_estimators=100,learning_rate=0.1,n_jobs=4,\n",
        "                      use_label_encoder=False,eval_metric='logloss',scale_pos_weight=2.2)\n",
        "\n",
        "scores_xgb=cross_validate(model,x,y,cv=5,scoring=scoring)\n",
        "print_scores(scores_xgb)"
      ],
      "execution_count": null,
      "outputs": []
    }
  ]
}